{
 "cells": [
  {
   "cell_type": "markdown",
   "id": "a63662c4",
   "metadata": {},
   "source": [
    "## Python new ipynb file here"
   ]
  },
  {
   "cell_type": "code",
   "execution_count": 1,
   "id": "8cb2b463",
   "metadata": {},
   "outputs": [
    {
     "name": "stdout",
     "output_type": "stream",
     "text": [
      "The sum is  68\n"
     ]
    }
   ],
   "source": [
    "print(\"The sum is \",34+34)"
   ]
  },
  {
   "cell_type": "markdown",
   "id": "ef7edcaf",
   "metadata": {},
   "source": []
  }
 ],
 "metadata": {
  "kernelspec": {
   "display_name": "base",
   "language": "python",
   "name": "python3"
  },
  "language_info": {
   "codemirror_mode": {
    "name": "ipython",
    "version": 3
   },
   "file_extension": ".py",
   "mimetype": "text/x-python",
   "name": "python",
   "nbconvert_exporter": "python",
   "pygments_lexer": "ipython3",
   "version": "3.12.7"
  }
 },
 "nbformat": 4,
 "nbformat_minor": 5
}
